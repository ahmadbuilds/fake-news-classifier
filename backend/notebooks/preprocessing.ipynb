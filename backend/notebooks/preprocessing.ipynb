{
 "cells": [
  {
   "cell_type": "code",
   "execution_count": 7,
   "id": "e093fdac",
   "metadata": {},
   "outputs": [
    {
     "name": "stdout",
     "output_type": "stream",
     "text": [
      "                                               title  \\\n",
      "0  Competing efforts to end South Sudan's war pro...   \n",
      "1  House Democratic leader Pelosi says intel pane...   \n",
      "2   The Koch Brothers And Warren Buffett Try To T...   \n",
      "3  DEMOCRAT LAWMAKER Puts Forth Bill Requiring Wi...   \n",
      "4  NOT KIDDING: Call A Transexual “He” If He Want...   \n",
      "\n",
      "                                                text       subject       date  \n",
      "0  NAIROBI (Reuters) - Competing efforts to end S...     worldnews 2017-09-08  \n",
      "1  WASHINGTON (Reuters) - U.S. House of Represent...  politicsNews 2017-03-28  \n",
      "2  Billionaire Investor Warren Buffett has portra...          News 2016-03-02  \n",
      "3  Leave it to a Democrat to waste everyone s tim...     left-news 2016-02-17  \n",
      "4  The LGBT mafia has never been more threatening...     left-news 2015-12-28  \n",
      "0    1\n",
      "1    1\n",
      "2    0\n",
      "3    0\n",
      "4    0\n",
      "Name: label, dtype: int64\n"
     ]
    }
   ],
   "source": [
    "import pandas as pd\n",
    "import numpy as np\n",
    "from matplotlib import pyplot as plt\n",
    "import nltk\n",
    "from nltk.corpus import stopwords\n",
    "from datetime import datetime\n",
    "#nltk.download('stopwords')\n",
    "#nltk.download('punkt')\n",
    "\n",
    "\n",
    "def parse_date(x):\n",
    "    for fmt in (\"%B %d, %Y\", \"%b %d, %Y\"):\n",
    "        try:\n",
    "            return datetime.strptime(x.strip(), fmt)\n",
    "        except ValueError:\n",
    "            continue\n",
    "    return None\n",
    "\n",
    "# Load the data\n",
    "#Combine the two datasets and shuffle them\n",
    "data1=pd.read_csv('../data/raw/Fake.csv',delimiter=',')\n",
    "data2=pd.read_csv('../data/raw/True.csv',delimiter=',')\n",
    "data1['label']=0\n",
    "data2['label']=1\n",
    "\n",
    "data=pd.concat([data1,data2],ignore_index=True)\n",
    "data=data.sample(frac=1).reset_index(drop=True)\n",
    "\n",
    "data.loc[data[\"date\"] == \"14-Feb-18\", \"date\"] = \"February 14, 2018\"\n",
    "data.loc[data[\"date\"] == \"15-Feb-18\", \"date\"] = \"February 15, 2018\"\n",
    "data.loc[data[\"date\"] == \"16-Feb-18\", \"date\"] = \"February 16, 2018\"\n",
    "data.loc[data[\"date\"] == \"17-Feb-18\", \"date\"] = \"February 17, 2018\"\n",
    "data.loc[data[\"date\"] == \"18-Feb-18\", \"date\"] = \"February 18, 2018\"\n",
    "data.loc[data[\"date\"] == \"19-Feb-18\", \"date\"] = \"February 19, 2018\"\n",
    "\n",
    "data[\"date\"]=data[\"date\"].apply(parse_date)\n",
    "\n",
    "x_train=data.drop(columns=['label'])\n",
    "y_train=data['label']\n",
    "\n",
    "print(x_train.head())\n",
    "print(y_train.head())"
   ]
  },
  {
   "cell_type": "code",
   "execution_count": 8,
   "id": "d7057fbf",
   "metadata": {},
   "outputs": [
    {
     "name": "stdout",
     "output_type": "stream",
     "text": [
      "0    nairobi  reuter   compet effort  end south sud...\n",
      "1    washington  reuter    hous  repres democrat le...\n",
      "2    billionair investor warren buffett  portray   ...\n",
      "3    leav    democrat  wast everyon  time  money  p...\n",
      "4     lgbt mafia  never   threaten  power   call  t...\n",
      "Name: text, dtype: object\n"
     ]
    }
   ],
   "source": [
    "#preprocessing the text data\n",
    "\n",
    "#Lowering the text\n",
    "x_train['title']=x_train['title'].str.lower()\n",
    "x_train['text']=x_train['text'].str.lower()\n",
    "x_train['subject']=x_train['subject'].str.lower()\n",
    "\n",
    "#tokenization\n",
    "tokenized=[nltk.word_tokenize(i) for i in x_train['text']]\n",
    "\n",
    "#removing stopwords and non-alphabetic characters\n",
    "#stemming the words\n",
    "ps=nltk.PorterStemmer()\n",
    "\n",
    "stopwords=set(stopwords.words('english'))\n",
    "\n",
    "for i in range(len(tokenized)):\n",
    "    tokenized[i]=[word if word.isalpha() else '' for word in tokenized[i]]\n",
    "    tokenized[i]=[word if word not in stopwords else '' for word in tokenized[i] ]\n",
    "    tokenized[i]=[ps.stem(word) if word else '' for word in tokenized[i]]\n",
    "\n",
    "\n",
    "#joining the tokens back to form the text\n",
    "for i in range(len(tokenized)):\n",
    "    tokenized[i]=' '.join(tokenized[i])\n",
    "x_train['text']=tokenized\n",
    "\n",
    "print(x_train['text'].head())\n"
   ]
  },
  {
   "cell_type": "code",
   "execution_count": null,
   "id": "aed31c62",
   "metadata": {},
   "outputs": [],
   "source": [
    "#filling missing values\n",
    "x_train['title']=x_train['title'].fillna('')\n",
    "\n",
    "x_train['text']=x_train['text'].fillna('')\n",
    "\n",
    "x_train['subject']=x_train['subject'].fillna('')\n",
    "\n",
    "x_train['date']=x_train['date'].ffill()\n",
    "\n",
    "\n",
    "#Saving the preprocessed data\n",
    "x_train.to_csv('../data/processed/x_train.csv',index=False)\n",
    "y_train.to_csv('../data/processed/y_train.csv',index=False)"
   ]
  }
 ],
 "metadata": {
  "kernelspec": {
   "display_name": "Python 3",
   "language": "python",
   "name": "python3"
  },
  "language_info": {
   "codemirror_mode": {
    "name": "ipython",
    "version": 3
   },
   "file_extension": ".py",
   "mimetype": "text/x-python",
   "name": "python",
   "nbconvert_exporter": "python",
   "pygments_lexer": "ipython3",
   "version": "3.11.4"
  }
 },
 "nbformat": 4,
 "nbformat_minor": 5
}
