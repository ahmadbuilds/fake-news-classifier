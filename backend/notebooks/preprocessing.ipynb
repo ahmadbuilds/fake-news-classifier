{
 "cells": [
  {
   "cell_type": "code",
   "execution_count": null,
   "id": "e093fdac",
   "metadata": {},
   "outputs": [
    {
     "name": "stdout",
     "output_type": "stream",
     "text": [
      "                                               title  \\\n",
      "0  U.S. travel restrictions jeopardize rare excha...   \n",
      "1  Kerry may visit Cuba soon for human rights dia...   \n",
      "2  WOW! “N” Word Used On Walmart Website To Descr...   \n",
      "3   Trump Has Something To Say About Khizr Khan D...   \n",
      "4   Students With Trump Sign March Down Halls Cha...   \n",
      "\n",
      "                                                text       subject  \\\n",
      "0  SAN FRANCISCO (Reuters) - When more than a doz...     worldnews   \n",
      "1  WASHINGTON (Reuters) - U.S. Secretary of State...  politicsNews   \n",
      "2  Walmart was apologizing on Monday after an app...      politics   \n",
      "3  There were several powerful, captivating speec...          News   \n",
      "4  Racists are all jizzed up after Donald Trump s...          News   \n",
      "\n",
      "                 date  \n",
      "0    October 2, 2017   \n",
      "1  February 23, 2016   \n",
      "2        Jul 17, 2017  \n",
      "3       July 30, 2016  \n",
      "4   November 10, 2016  \n",
      "0    1\n",
      "1    1\n",
      "2    0\n",
      "3    0\n",
      "4    0\n",
      "Name: label, dtype: int64\n"
     ]
    }
   ],
   "source": [
    "import pandas as pd\n",
    "import numpy as np\n",
    "from matplotlib import pyplot as plt\n",
    "import nltk\n",
    "# Load the data\n",
    "#Combine the two datasets and shuffle them\n",
    "data1=pd.read_csv('../data/raw/Fake.csv',delimiter=',')\n",
    "data2=pd.read_csv('../data/raw/True.csv',delimiter=',')\n",
    "data1['label']=0\n",
    "data2['label']=1\n",
    "\n",
    "data=pd.concat([data1,data2],ignore_index=True)\n",
    "data=data.sample(frac=1).reset_index(drop=True)\n",
    "\n",
    "x_train=data.drop(columns=['label'])\n",
    "y_train=data['label']\n",
    "\n",
    "print(x_train.head())\n",
    "print(y_train.head())"
   ]
  }
 ],
 "metadata": {
  "kernelspec": {
   "display_name": "Python 3",
   "language": "python",
   "name": "python3"
  },
  "language_info": {
   "codemirror_mode": {
    "name": "ipython",
    "version": 3
   },
   "file_extension": ".py",
   "mimetype": "text/x-python",
   "name": "python",
   "nbconvert_exporter": "python",
   "pygments_lexer": "ipython3",
   "version": "3.11.4"
  }
 },
 "nbformat": 4,
 "nbformat_minor": 5
}
